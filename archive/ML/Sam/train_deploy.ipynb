{
 "cells": [
  {
   "cell_type": "code",
   "execution_count": null,
   "id": "8a36fed3",
   "metadata": {},
   "outputs": [],
   "source": [
    "from sklearn.datasets import load_iris\n",
    "from sklearn.model_selection import train_test_split\n",
    "from sklearn.metrics import accuracy_score\n",
    "import numpy as np\n",
    "import pandas as pd\n",
    "import boto3\n",
    "import sagemaker\n",
    "from sagemaker import get_execution_role\n",
    "from sagemaker.inputs import TrainingInput\n",
    "from sagemaker.estimator import Estimator\n",
    "from sagemaker.serializers import CSVSerializer\n",
    "import logging\n",
    "logging.getLogger('sagemaker').setLevel(logging.ERROR)"
   ]
  },
  {
   "cell_type": "markdown",
   "id": "b60f2ce8",
   "metadata": {},
   "source": [
    "## preprocess data\n",
    "* put data and label into one file\n",
    "* the first column must be label, followed by data\n",
    "* no header\n",
    "\n",
    "https://docs.aws.amazon.com/sagemaker/latest/dg/ex1-preprocess-data.html#ex1-preprocess-data-transform"
   ]
  },
  {
   "cell_type": "code",
   "execution_count": null,
   "id": "83c7e40d",
   "metadata": {},
   "outputs": [],
   "source": [
    "iris = load_iris()\n",
    "x = iris.data\n",
    "y = iris.target\n",
    "\n",
    "# Split data into training and validation sets\n",
    "x_train, x_val, y_train, y_val = train_test_split(x, y, test_size=0.2, random_state=42)\n",
    "\n",
    "train_df=pd.DataFrame(x_train, columns=iris.feature_names)\n",
    "train_df.insert(0, 'species', y_train)\n",
    "train_df.to_csv('iris_data/train.csv', index=False, header=False)\n",
    "\n",
    "val_df=pd.DataFrame(x_val, columns=iris.feature_names)\n",
    "val_df.insert(0, 'species', y_val)\n",
    "val_df.to_csv('iris_data/val.csv', index=False, header=False)\n",
    "\n",
    "# save to s3\n",
    "sess=sagemaker.Session()\n",
    "bucket=sess.default_bucket()\n",
    "boto3.Session().resource('s3').Bucket(bucket).Object('data/train.csv').upload_file('iris_data/train.csv')\n",
    "boto3.Session().resource('s3').Bucket(bucket).Object('data/val.csv').upload_file('iris_data/val.csv')"
   ]
  },
  {
   "cell_type": "markdown",
   "id": "ce5d3a41",
   "metadata": {},
   "source": [
    "## define model"
   ]
  },
  {
   "cell_type": "code",
   "execution_count": null,
   "id": "3e2955e3",
   "metadata": {},
   "outputs": [],
   "source": [
    "# get execution role from local\n",
    "# https://github.com/aws/sagemaker-python-sdk/issues/300\n",
    "# https://docs.aws.amazon.com/sagemaker/latest/dg/sagemaker-roles.html\n",
    "def resolve_sm_role():\n",
    "    client = boto3.client('iam', region_name=boto3.Session().region_name)\n",
    "    response_roles = client.list_roles(\n",
    "        PathPrefix='/',\n",
    "        MaxItems=123\n",
    "    )\n",
    "    for role in response_roles['Roles']:\n",
    "        if role['RoleName'].startswith('AmazonSageMaker-ExecutionRole-'):\n",
    "            return role['Arn']\n",
    "    raise Exception('need to create sagemaker execution role from aws console first')\n",
    "    return\n",
    "\n",
    "try:\n",
    "    execution_role_ARN = sagemaker.get_execution_role()\n",
    "except ValueError:\n",
    "    execution_role_ARN = resolve_sm_role()"
   ]
  },
  {
   "cell_type": "code",
   "execution_count": null,
   "id": "f81f5836",
   "metadata": {},
   "outputs": [],
   "source": [
    "xgb=Estimator(\n",
    "    sagemaker.image_uris.retrieve('xgboost', boto3.Session().region_name, 'latest'),\n",
    "    execution_role_ARN,\n",
    "    instance_count=1,\n",
    "    instance_type=\"ml.m4.xlarge\",\n",
    "    volume_size=5,\n",
    "    output_path=f\"s3://{bucket}/output\",\n",
    "    sagemaker_session=sess\n",
    ")\n",
    "\n",
    "# https://docs.aws.amazon.com/sagemaker/latest/dg/xgboost_hyperparameters.html\n",
    "xgb.set_hyperparameters(\n",
    "    num_class=3,\n",
    "    num_round=10,\n",
    "    eta=0.2,\n",
    "    gamma=4,\n",
    "    max_depth=5,\n",
    "    min_child_weight=6,\n",
    "    objective='multi:softmax', # needs to be changed for binary classification\n",
    "    verbose=2\n",
    ")"
   ]
  },
  {
   "cell_type": "markdown",
   "id": "f32ac41c",
   "metadata": {},
   "source": [
    "## train\n",
    "https://docs.aws.amazon.com/sagemaker/latest/dg/ex1-train-model.html"
   ]
  },
  {
   "cell_type": "code",
   "execution_count": null,
   "id": "c96019e0",
   "metadata": {
    "scrolled": true
   },
   "outputs": [],
   "source": [
    "train = TrainingInput(s3_data=f's3://{bucket}/data/train.csv', content_type='csv')\n",
    "val = TrainingInput(s3_data=f's3://{bucket}/data/val.csv', content_type='csv')\n",
    "\n",
    "xgb.fit({\"train\": train, \"validation\": val}, wait=True)"
   ]
  },
  {
   "cell_type": "markdown",
   "id": "cccbd701",
   "metadata": {},
   "source": [
    "## deploy\n",
    "https://docs.aws.amazon.com/sagemaker/latest/dg/ex1-model-deployment.html"
   ]
  },
  {
   "cell_type": "code",
   "execution_count": null,
   "id": "1639b82b",
   "metadata": {},
   "outputs": [],
   "source": [
    "xgb_predictor=xgb.deploy(\n",
    "    initial_instance_count=1,\n",
    "    instance_type='ml.m4.xlarge',\n",
    "    serializer=CSVSerializer()\n",
    ")"
   ]
  },
  {
   "cell_type": "code",
   "execution_count": null,
   "id": "60bb2303",
   "metadata": {},
   "outputs": [],
   "source": [
    "xgb_predictor.endpoint_name"
   ]
  },
  {
   "cell_type": "markdown",
   "id": "2dcb1aa9",
   "metadata": {},
   "source": [
    "## test\n",
    "endpoint_name is the output of `xgb_predictor.endpoint_name`"
   ]
  },
  {
   "cell_type": "code",
   "execution_count": null,
   "id": "5c3459b2",
   "metadata": {},
   "outputs": [],
   "source": [
    "xgb_predictor=sagemaker.predictor.Predictor(\n",
    "    endpoint_name=\"xgboost-2024-06-14-05-56-13-766\",\n",
    "    sagemaker_session=sagemaker.Session(),\n",
    "    serializer=sagemaker.serializers.CSVSerializer()\n",
    ")"
   ]
  },
  {
   "cell_type": "code",
   "execution_count": null,
   "id": "a0329e77",
   "metadata": {},
   "outputs": [],
   "source": [
    "test = np.array([[4.6, 3.6, 1.0, 0.2],\n",
    "                 [6.7, 3.1, 4.4, 1.4],\n",
    "                 [5.8, 2.7, 5.1, 1.9]\n",
    "])\n",
    "pred = xgb_predictor.predict(test).decode('utf-8').split(',')\n",
    "pred = [int(float(p)) for p in pred]\n",
    "print(pred)"
   ]
  },
  {
   "cell_type": "code",
   "execution_count": null,
   "id": "8f59a9c8",
   "metadata": {},
   "outputs": [],
   "source": []
  }
 ],
 "metadata": {
  "kernelspec": {
   "display_name": "Python 3 (ipykernel)",
   "language": "python",
   "name": "python3"
  },
  "language_info": {
   "codemirror_mode": {
    "name": "ipython",
    "version": 3
   },
   "file_extension": ".py",
   "mimetype": "text/x-python",
   "name": "python",
   "nbconvert_exporter": "python",
   "pygments_lexer": "ipython3",
   "version": "3.11.5"
  }
 },
 "nbformat": 4,
 "nbformat_minor": 5
}
