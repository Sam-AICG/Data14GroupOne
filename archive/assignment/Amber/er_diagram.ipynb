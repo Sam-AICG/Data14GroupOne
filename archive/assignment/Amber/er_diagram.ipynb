{
 "cells": [
  {
   "cell_type": "markdown",
   "metadata": {},
   "source": [
    "# ER Diagram\n",
    "\n",
    "The ER diagram represents five tables with their relationships:\n",
    "\n",
    "## Entities\n",
    "\n",
    "1. **AISLES** (AISLE_ID, AISLE)\n",
    "2. **DEPARTMENTS** (DEPARTMENT_ID, DEPARTMENT)\n",
    "3. **PRODUCTS** (PRODUCT_ID, PRODUCT_NAME, AISLE_ID, DEPARTMENT_ID)\n",
    "4. **ORDERS** (ORDER_ID, USER_ID, EVAL_SET, ORDER_NUMBER, ORDER_DOW, ORDER_HOUR_OF_DAY, DAYS_SINCE_PRIOR_ORDER)\n",
    "5. **ORDER_PRODUCT** (ORDER_ID, PRODUCT_ID, ADD_TO_CART_ORDER, REORDERED)\n",
    "\n",
    "## Relationships\n",
    "\n",
    "- **PRODUCTS** is related to **AISLES** (many-to-one)\n",
    "- **PRODUCTS** is related to **DEPARTMENTS** (many-to-one)\n",
    "- **ORDER_PRODUCT** is related to **ORDERS** (many-to-one)\n",
    "- **ORDER_PRODUCT** is related to **PRODUCTS** (many-to-one)\n",
    "\n",
    "![ER Diagram](er_diagram_draft.png)"
   ]
  }
 ],
 "metadata": {
  "kernelspec": {
   "display_name": "Python 3",
   "language": "python",
   "name": "python3"
  },
  "language_info": {
   "codemirror_mode": {
    "name": "ipython",
    "version": 3
   },
   "file_extension": ".py",
   "mimetype": "text/x-python",
   "name": "python",
   "nbconvert_exporter": "python",
   "pygments_lexer": "ipython3",
   "version": "3.11.9"
  }
 },
 "nbformat": 4,
 "nbformat_minor": 2
}
