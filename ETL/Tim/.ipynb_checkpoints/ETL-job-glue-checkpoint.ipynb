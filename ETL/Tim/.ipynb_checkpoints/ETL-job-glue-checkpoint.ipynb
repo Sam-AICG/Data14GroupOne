{
 "cells": [
  {
   "cell_type": "markdown",
   "metadata": {
    "editable": true
   },
   "source": [
    "# AWS Glue Studio Notebook\n",
    "##### You are now running a AWS Glue Studio notebook; To start using your notebook you need to start an AWS Glue Interactive Session.\n"
   ]
  },
  {
   "cell_type": "markdown",
   "metadata": {
    "editable": true
   },
   "source": [
    "#### Optional: Run this cell to see available notebook commands (\"magics\").\n"
   ]
  },
  {
   "cell_type": "code",
   "execution_count": null,
   "metadata": {
    "editable": true
   },
   "outputs": [],
   "source": [
    "%help"
   ]
  },
  {
   "cell_type": "markdown",
   "metadata": {
    "editable": true
   },
   "source": [
    "####  Run this cell to set up and start your interactive session.\n"
   ]
  },
  {
   "cell_type": "code",
   "execution_count": null,
   "metadata": {
    "editable": true
   },
   "outputs": [],
   "source": [
    "%timeout 15\n",
    "%idle_timeout 15\n",
    "%glue_version 4.0\n",
    "%worker_type G.1X\n",
    "%number_of_workers 5\n",
    "\n",
    "import sys\n",
    "from awsglue.transforms import *\n",
    "from awsglue.utils import getResolvedOptions\n",
    "from pyspark.context import SparkContext\n",
    "from awsglue.context import GlueContext\n",
    "from awsglue.job import Job\n",
    "  \n",
    "sc = SparkContext.getOrCreate()\n",
    "glueContext = GlueContext(sc)\n",
    "spark = glueContext.spark_session\n",
    "job = Job(glueContext)"
   ]
  },
  {
   "cell_type": "markdown",
   "metadata": {},
   "source": [
    "#### Create a new data base imba_parquet ####"
   ]
  },
  {
   "cell_type": "code",
   "execution_count": null,
   "metadata": {},
   "outputs": [],
   "source": [
    "import boto3\n",
    "# Initialize the Glue client\n",
    "glue_client = boto3.client('glue')\n",
    "\n",
    "# Create a new database\n",
    "response = glue_client.create_database(\n",
    "    DatabaseInput={\n",
    "        'Name': 'imba_parquet',\n",
    "        'Description': 'a new database that points to the parquet files',\n",
    "    }\n",
    ")"
   ]
  },
  {
   "cell_type": "markdown",
   "metadata": {},
   "source": [
    "#### Leverage GlueContext to convert newly uploaded csv data files to parquet.####\n",
    "\n",
    "**(need to consider the choices for updateBehavior, partitionKeys, enableUpdateCatalog)**"
   ]
  },
  {
   "cell_type": "markdown",
   "metadata": {},
   "source": [
    "**aisles**"
   ]
  },
  {
   "cell_type": "code",
   "execution_count": null,
   "metadata": {},
   "outputs": [],
   "source": [
    "# read metadata from database='imba'\n",
    "aisles_read = glueContext.create_dynamic_frame. \\\n",
    "    from_catalog(database=\"imba2\", table_name=\"aisles\", transformation_ctx=\"S3_out\")\n",
    "\n",
    "# write csv file to parquet file\n",
    "aisles_parquet = glueContext. \\\n",
    "getSink(path=\"s3://imba-tgou1055/data3/aisles/\", connection_type=\"s3\", \\\n",
    "        updateBehavior=\"LOG\", partitionKeys=[], enableUpdateCatalog=True, transformation_ctx=\"S3_in\")\n",
    "aisles_parquet.setCatalogInfo(catalogDatabase=\"imba_parquet\",catalogTableName=\"aisles\")\n",
    "aisles_parquet.setFormat(\"glueparquet\", compression=\"snappy\")\n",
    "aisles_parquet.writeFrame(aisles_read)"
   ]
  },
  {
   "cell_type": "markdown",
   "metadata": {},
   "source": [
    "**departments**"
   ]
  },
  {
   "cell_type": "code",
   "execution_count": null,
   "metadata": {},
   "outputs": [],
   "source": [
    "# read metadata from database='imba'\n",
    "departments_read = glueContext.create_dynamic_frame. \\\n",
    "    from_catalog(database=\"imba2\", table_name=\"departments\", transformation_ctx=\"S3_out\")\n",
    "\n",
    "# write csv file to parquet file\n",
    "departments_parquet = glueContext. \\\n",
    "getSink(path=\"s3://imba-tgou1055/data3/departments/\", connection_type=\"s3\", \\\n",
    "        updateBehavior=\"LOG\", partitionKeys=[], enableUpdateCatalog=True, transformation_ctx=\"S3_in\")\n",
    "departments_parquet.setCatalogInfo(catalogDatabase=\"imba_parquet\",catalogTableName=\"departments\")\n",
    "departments_parquet.setFormat(\"glueparquet\", compression=\"snappy\")\n",
    "departments_parquet.writeFrame(departments_read)\n"
   ]
  },
  {
   "cell_type": "markdown",
   "metadata": {},
   "source": [
    "**orders**"
   ]
  },
  {
   "cell_type": "code",
   "execution_count": null,
   "metadata": {},
   "outputs": [],
   "source": [
    "# read metadata from database='imba'\n",
    "orders_read = glueContext.create_dynamic_frame. \\\n",
    "    from_catalog(database=\"imba2\", table_name=\"orders\", transformation_ctx=\"S3_out\")\n",
    "\n",
    "# write csv file to parquet file\n",
    "orders_parquet = glueContext. \\\n",
    "getSink(path=\"s3://imba-tgou1055/data3/orders/\", connection_type=\"s3\", \\\n",
    "        updateBehavior=\"LOG\", partitionKeys=[], enableUpdateCatalog=True, transformation_ctx=\"S3_in\")\n",
    "orders_parquet.setCatalogInfo(catalogDatabase=\"imba_parquet\",catalogTableName=\"orders\")\n",
    "orders_parquet.setFormat(\"glueparquet\", compression=\"snappy\")\n",
    "orders_parquet.writeFrame(orders_read)"
   ]
  },
  {
   "cell_type": "markdown",
   "metadata": {},
   "source": [
    "**products**"
   ]
  },
  {
   "cell_type": "code",
   "execution_count": null,
   "metadata": {},
   "outputs": [],
   "source": [
    "# read metadata from database='imba'\n",
    "products_read = glueContext.create_dynamic_frame. \\\n",
    "    from_catalog(database=\"imba2\", table_name=\"products\", transformation_ctx=\"S3_out\")\n",
    "\n",
    "# write csv file to parquet file\n",
    "products_parquet = glueContext. \\\n",
    "getSink(path=\"s3://imba-tgou1055/data3/products/\", connection_type=\"s3\", \\\n",
    "        updateBehavior=\"LOG\", partitionKeys=[], enableUpdateCatalog=True, transformation_ctx=\"S3_in\")\n",
    "products_parquet.setCatalogInfo(catalogDatabase=\"imba_parquet\",catalogTableName=\"products\")\n",
    "products_parquet.setFormat(\"glueparquet\", compression=\"snappy\")\n",
    "products_parquet.writeFrame(products_read)"
   ]
  },
  {
   "cell_type": "markdown",
   "metadata": {},
   "source": [
    "**order_products**"
   ]
  },
  {
   "cell_type": "code",
   "execution_count": null,
   "metadata": {},
   "outputs": [],
   "source": [
    "# read metadata from database='imba'\n",
    "order_products_read = glueContext.create_dynamic_frame. \\\n",
    "    from_catalog(database=\"imba2\", table_name=\"order_products\", transformation_ctx=\"S3_out\")\n",
    "\n",
    "# write csv file to parquet file\n",
    "order_products_parquet = glueContext. \\\n",
    "getSink(path=\"s3://imba-tgou1055/data3/order_products/\", connection_type=\"s3\", \\\n",
    "        updateBehavior=\"LOG\", partitionKeys=[], enableUpdateCatalog=True, transformation_ctx=\"S3_in\")\n",
    "order_products_parquet.setCatalogInfo(catalogDatabase=\"imba_parquet\",catalogTableName=\"order_products\")\n",
    "order_products_parquet.setFormat(\"glueparquet\", compression=\"snappy\")\n",
    "order_products_parquet.writeFrame(order_products_read)"
   ]
  },
  {
   "cell_type": "markdown",
   "metadata": {
    "editable": true
   },
   "source": [
    "#### Example: Create a DynamicFrame from a table in the AWS Glue Data Catalog and display its schema\n"
   ]
  },
  {
   "cell_type": "code",
   "execution_count": null,
   "metadata": {
    "editable": true
   },
   "outputs": [],
   "source": [
    "# dyf = glueContext.create_dynamic_frame.from_catalog(database='database_name', table_name='table_name')\n",
    "# dyf.printSchema()"
   ]
  },
  {
   "cell_type": "markdown",
   "metadata": {
    "editable": true
   },
   "source": [
    "#### Example: Convert the DynamicFrame to a Spark DataFrame and display a sample of the data\n"
   ]
  },
  {
   "cell_type": "code",
   "execution_count": null,
   "metadata": {
    "editable": true
   },
   "outputs": [],
   "source": [
    "# df = dyf.toDF()\n",
    "# df.show()"
   ]
  },
  {
   "cell_type": "markdown",
   "metadata": {
    "editable": true
   },
   "source": [
    "#### Example: Visualize data with matplotlib\n"
   ]
  },
  {
   "cell_type": "code",
   "execution_count": null,
   "metadata": {
    "editable": true
   },
   "outputs": [],
   "source": [
    "# import matplotlib.pyplot as plt\n",
    "\n",
    "# # Set X-axis and Y-axis values\n",
    "# x = [5, 2, 8, 4, 9]\n",
    "# y = [10, 4, 8, 5, 2]\n",
    "  \n",
    "# # Create a bar chart \n",
    "# plt.bar(x, y)\n",
    "  \n",
    "# # Show the plot\n",
    "# %matplot plt"
   ]
  },
  {
   "cell_type": "markdown",
   "metadata": {
    "editable": true
   },
   "source": [
    "#### Example: Write the data in the DynamicFrame to a location in Amazon S3 and a table for it in the AWS Glue Data Catalog\n"
   ]
  },
  {
   "cell_type": "code",
   "execution_count": null,
   "metadata": {
    "editable": true
   },
   "outputs": [],
   "source": [
    "# s3output = glueContext.getSink(\n",
    "#   path=\"s3://bucket_name/folder_name\",\n",
    "#   connection_type=\"s3\",\n",
    "#   updateBehavior=\"UPDATE_IN_DATABASE\",\n",
    "#   partitionKeys=[],\n",
    "#   compression=\"snappy\",\n",
    "#   enableUpdateCatalog=True,\n",
    "#   transformation_ctx=\"s3output\",\n",
    "# )\n",
    "# s3output.setCatalogInfo(\n",
    "#   catalogDatabase=\"demo\", catalogTableName=\"populations\"\n",
    "# )\n",
    "# s3output.setFormat(\"glueparquet\")\n",
    "# s3output.writeFrame(DyF)"
   ]
  }
 ],
 "metadata": {
  "kernelspec": {
   "display_name": "Python 3 (ipykernel)",
   "language": "python",
   "name": "python3"
  },
  "language_info": {
   "codemirror_mode": {
    "name": "ipython",
    "version": 3
   },
   "file_extension": ".py",
   "mimetype": "text/x-python",
   "name": "python",
   "nbconvert_exporter": "python",
   "pygments_lexer": "ipython3",
   "version": "3.11.5"
  }
 },
 "nbformat": 4,
 "nbformat_minor": 4
}
